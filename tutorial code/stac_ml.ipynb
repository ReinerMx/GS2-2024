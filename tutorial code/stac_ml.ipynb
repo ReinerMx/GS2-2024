{
 "cells": [
  {
   "cell_type": "code",
   "execution_count": 2,
   "metadata": {},
   "outputs": [],
   "source": [
    "import pystac_client # type: ignore"
   ]
  },
  {
   "cell_type": "code",
   "execution_count": 3,
   "metadata": {
    "scrolled": true
   },
   "outputs": [
    {
     "data": {
      "text/html": [
       "&lt;Client id=root&gt;"
      ],
      "text/plain": [
       "<Client id=root>"
      ]
     },
     "execution_count": 3,
     "metadata": {},
     "output_type": "execute_result"
    }
   ],
   "source": [
    "url = \"http://localhost:5555/\"\n",
    "catalog = pystac_client.Client.open(url)\n",
    "catalog"
   ]
  },
  {
   "cell_type": "code",
   "execution_count": null,
   "metadata": {},
   "outputs": [],
   "source": [
    "bbox = [-180, -90, 180, 90]\n",
    "\n",
    "items = catalog.search(\n",
    "    collections = [\"ml-models-rs\"],\n",
    "    bbox = bbox,\n",
    "    datetime = [\"2019-01-01T00:00:00Z\", \"2024-12-31T23:59:59Z\"]\n",
    ").item_collection()"
   ]
  },
  {
   "cell_type": "code",
   "execution_count": 9,
   "metadata": {},
   "outputs": [
    {
     "data": {
      "text/html": [
       "&lt;pystac.item_collection.ItemCollection object at 0x109c26490&gt;"
      ],
      "text/plain": [
       "<pystac.item_collection.ItemCollection at 0x109c26490>"
      ]
     },
     "execution_count": 9,
     "metadata": {},
     "output_type": "execute_result"
    }
   ],
   "source": [
    "items"
   ]
  }
 ],
 "metadata": {
  "kernelspec": {
   "display_name": ".venv",
   "language": "python",
   "name": "python3"
  },
  "language_info": {
   "codemirror_mode": {
    "name": "ipython",
    "version": 3
   },
   "file_extension": ".py",
   "mimetype": "text/x-python",
   "name": "python",
   "nbconvert_exporter": "python",
   "pygments_lexer": "ipython3",
   "version": "3.13.1"
  }
 },
 "nbformat": 4,
 "nbformat_minor": 4
}
