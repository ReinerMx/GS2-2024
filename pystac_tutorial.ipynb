{
 "cells": [
  {
   "cell_type": "code",
   "execution_count": 20,
   "metadata": {},
   "outputs": [
    {
     "name": "stdout",
     "output_type": "stream",
     "text": [
      "Requirement already satisfied: pystac in ./.venv/lib/python3.13/site-packages (1.11.0)\n",
      "Requirement already satisfied: pystac-client in ./.venv/lib/python3.13/site-packages (0.8.5)\n",
      "Requirement already satisfied: python-dateutil>=2.7.0 in ./.venv/lib/python3.13/site-packages (from pystac) (2.9.0.post0)\n",
      "Requirement already satisfied: requests>=2.28.2 in ./.venv/lib/python3.13/site-packages (from pystac-client) (2.32.3)\n",
      "Requirement already satisfied: jsonschema~=4.18 in ./.venv/lib/python3.13/site-packages (from pystac[validation]>=1.10.0->pystac-client) (4.23.0)\n",
      "Requirement already satisfied: six>=1.5 in ./.venv/lib/python3.13/site-packages (from python-dateutil>=2.7.0->pystac) (1.17.0)\n",
      "Requirement already satisfied: charset-normalizer<4,>=2 in ./.venv/lib/python3.13/site-packages (from requests>=2.28.2->pystac-client) (3.4.1)\n",
      "Requirement already satisfied: idna<4,>=2.5 in ./.venv/lib/python3.13/site-packages (from requests>=2.28.2->pystac-client) (3.10)\n",
      "Requirement already satisfied: urllib3<3,>=1.21.1 in ./.venv/lib/python3.13/site-packages (from requests>=2.28.2->pystac-client) (2.3.0)\n",
      "Requirement already satisfied: certifi>=2017.4.17 in ./.venv/lib/python3.13/site-packages (from requests>=2.28.2->pystac-client) (2024.12.14)\n",
      "Requirement already satisfied: attrs>=22.2.0 in ./.venv/lib/python3.13/site-packages (from jsonschema~=4.18->pystac[validation]>=1.10.0->pystac-client) (24.3.0)\n",
      "Requirement already satisfied: jsonschema-specifications>=2023.03.6 in ./.venv/lib/python3.13/site-packages (from jsonschema~=4.18->pystac[validation]>=1.10.0->pystac-client) (2024.10.1)\n",
      "Requirement already satisfied: referencing>=0.28.4 in ./.venv/lib/python3.13/site-packages (from jsonschema~=4.18->pystac[validation]>=1.10.0->pystac-client) (0.35.1)\n",
      "Requirement already satisfied: rpds-py>=0.7.1 in ./.venv/lib/python3.13/site-packages (from jsonschema~=4.18->pystac[validation]>=1.10.0->pystac-client) (0.22.3)\n",
      "Note: you may need to restart the kernel to use updated packages.\n"
     ]
    }
   ],
   "source": [
    "pip install pystac pystac-client"
   ]
  },
  {
   "cell_type": "code",
   "execution_count": null,
   "metadata": {},
   "outputs": [],
   "source": [
    "import pystac\n",
    "import requests\n",
    "from pystac_client import Client"
   ]
  },
  {
   "cell_type": "code",
   "execution_count": 22,
   "metadata": {},
   "outputs": [],
   "source": [
    "catalog_url = \"http://localhost:5555/\"\n",
    "client = Client.open(catalog_url)"
   ]
  },
  {
   "cell_type": "code",
   "execution_count": 24,
   "metadata": {},
   "outputs": [
    {
     "data": {
      "text/plain": [
       "[<Item id=item_solar_satlas_sentinel2>,\n",
       " <Item id=water-bodies-model-pystac>,\n",
       " <Item id=item_landcover_eurosat_sentinel2>]"
      ]
     },
     "execution_count": 24,
     "metadata": {},
     "output_type": "execute_result"
    }
   ],
   "source": [
    "search = client.search(\n",
    "    bbox=[-180, -90, 180, 90],\n",
    "    datetime=\"2023-01-01/2023-12-31\"\n",
    ")\n",
    "items = list(search.items())\n",
    "items"
   ]
  },
  {
   "cell_type": "code",
   "execution_count": 18,
   "metadata": {},
   "outputs": [
    {
     "name": "stdout",
     "output_type": "stream",
     "text": [
      "item_solar_satlas_sentinel2 {'datetime': None, 'mlm:name': 'Satlas Solar Farm Segmentation', 'file:size': 333000000, 'mlm:input': [{'name': '9 Band Sentinel-2 4 Time Step Series Batch', 'bands': ['B02', 'B03', 'B04', 'B05', 'B06', 'B07', 'B08', 'B11', 'B12', 'B02', 'B03', 'B04', 'B05', 'B06', 'B07', 'B08', 'B11', 'B12', 'B02', 'B03', 'B04', 'B05', 'B06', 'B07', 'B08', 'B11', 'B12', 'B02', 'B03', 'B04', 'B05', 'B06', 'B07', 'B08', 'B11', 'B12'], 'input': {'shape': [-1, 36, 1024, 1024], 'data_type': 'float32', 'dim_order': ['batch', 'channel', 'height', 'width']}, 'norm_type': 'min-max', 'statistics': [{'maximum': 255, 'minimum': 0}, {'maximum': 255, 'minimum': 0}, {'maximum': 255, 'minimum': 0}, {'maximum': 255, 'minimum': 0}, {'maximum': 255, 'minimum': 0}, {'maximum': 255, 'minimum': 0}, {'maximum': 255, 'minimum': 0}, {'maximum': 255, 'minimum': 0}, {'maximum': 255, 'minimum': 0}, {'maximum': 255, 'minimum': 0}, {'maximum': 255, 'minimum': 0}, {'maximum': 255, 'minimum': 0}, {'maximum': 255, 'minimum': 0}, {'maximum': 255, 'minimum': 0}, {'maximum': 255, 'minimum': 0}, {'maximum': 255, 'minimum': 0}, {'maximum': 255, 'minimum': 0}, {'maximum': 255, 'minimum': 0}, {'maximum': 255, 'minimum': 0}, {'maximum': 255, 'minimum': 0}, {'maximum': 255, 'minimum': 0}, {'maximum': 255, 'minimum': 0}, {'maximum': 255, 'minimum': 0}, {'maximum': 255, 'minimum': 0}, {'maximum': 255, 'minimum': 0}, {'maximum': 255, 'minimum': 0}, {'maximum': 255, 'minimum': 0}, {'maximum': 255, 'minimum': 0}, {'maximum': 255, 'minimum': 0}, {'maximum': 255, 'minimum': 0}, {'maximum': 255, 'minimum': 0}, {'maximum': 255, 'minimum': 0}, {'maximum': 255, 'minimum': 0}, {'maximum': 255, 'minimum': 0}, {'maximum': 255, 'minimum': 0}, {'maximum': 255, 'minimum': 0}], 'resize_type': 'crop', 'norm_by_channel': True, 'pre_processing_function': {'format': 'documentation-link', 'expression': 'https://github.com/allenai/satlas/blob/main/CustomInference.md#sentinel-2-inference-example'}}], 'mlm:tasks': ['semantic-segmentation', 'segmentation'], 'mlm:output': [{'name': 'confidence array', 'tasks': ['semantic-segmentation'], 'result': {'shape': [-1, 1, 1024, 1024], 'data_type': 'float32', 'dim_order': ['batch', 'height', 'width']}, 'classification:classes': [{'name': 'Solar Farm', 'value': 1, 'description': 'Solar Farm'}], 'post_processing_function': None}], 'description': 'Sourced from satlas source code released by Allen AI under Apache 2.0', 'end_datetime': '2024-01-01T00:00:00Z', 'mlm:framework': 'pytorch', 'mlm:pretrained': True, 'start_datetime': '2022-01-01T00:00:00Z', 'mlm:accelerator': 'cuda', 'mlm:memory_size': 1, 'mlm:architecture': 'Swin Transformer V2 with U-Net head', 'mlm:total_parameters': 89748193, 'mlm:framework_version': '2.3.0+cu121', 'mlm:pretrained_source': 'Sentinel-2 imagery and SATLAS labels', 'mlm:accelerator_summary': 'It is necessary to use GPU since it was compiled for NVIDIA Ampere and newer architectures with AOTInductor and the computational demands of the model.', 'mlm:batch_size_suggestion': 10, 'mlm:accelerator_constrained': True, 'overlap_percentage': None}\n",
      "water-bodies-model-pystac {'datetime': '2024-07-26T07:53:09.308573Z', 'mlm:name': 'Water-Bodies-S6_Scikit-Learn-RandomForestClassifier', 'mlm:input': [{'name': 'EO Data', 'bands': ['B01', 'B02', 'B03', 'B04', 'B08', 'B8A', 'B09', 'B11', 'B12', 'NDVI', 'NDWI1', 'NDWI2'], 'input': {'shape': [-1, 12, 10980, 10980], 'data_type': 'float32', 'dim_order': ['batch', 'channel', 'height', 'width']}}], 'mlm:tasks': ['segmentation', 'semantic-segmentation'], 'mlm:output': [{'name': 'CLASSIFICATION', 'tasks': ['segmentation', 'semantic-segmentation'], 'result': {'shape': [-1, 10980, 10980], 'data_type': 'uint8', 'dim_order': ['batch', 'height', 'width']}, 'classification:classes': [{'name': 'NON-WATER', 'value': 0, 'nodata': False, 'color_hint': '000000', 'description': 'pixels without water'}, {'name': 'WATER', 'value': 1, 'nodata': False, 'color_hint': '0000FF', 'description': 'pixels with water'}, {'name': 'CLOUD', 'value': 2, 'nodata': False, 'color_hint': 'FFFFFF', 'description': 'pixels with cloud'}]}], 'description': 'Water classifier using Scikit-Learn Random-Forest algorithm onto input imagery bands', 'end_datetime': '2023-06-18T23:59:59Z', 'mlm:compiled': False, 'raster:bands': [{'name': 'B01', 'unit': 'm', 'scale': 0.0001, 'nodata': 0, 'offset': 0, 'data_type': 'uint16', 'common_name': 'coastal', 'bits_per_sample': 15, 'spatial_resolution': 60}, {'name': 'B02', 'unit': 'm', 'scale': 0.0001, 'nodata': 0, 'offset': 0, 'data_type': 'uint16', 'common_name': 'blue', 'bits_per_sample': 15, 'spatial_resolution': 10}, {'name': 'B03', 'unit': 'm', 'scale': 0.0001, 'nodata': 0, 'offset': 0, 'data_type': 'uint16', 'common_name': 'green', 'bits_per_sample': 15, 'spatial_resolution': 10}, {'name': 'B04', 'unit': 'm', 'scale': 0.0001, 'nodata': 0, 'offset': 0, 'data_type': 'uint16', 'common_name': 'red', 'bits_per_sample': 15, 'spatial_resolution': 10}, {'name': 'B08', 'unit': 'm', 'scale': 0.0001, 'nodata': 0, 'offset': 0, 'data_type': 'uint16', 'common_name': 'nir', 'bits_per_sample': 15, 'spatial_resolution': 10}, {'name': 'B8A', 'unit': 'm', 'scale': 0.0001, 'nodata': 0, 'offset': 0, 'data_type': 'uint16', 'common_name': 'nir08', 'bits_per_sample': 15, 'spatial_resolution': 20}, {'name': 'B09', 'unit': 'm', 'scale': 0.0001, 'nodata': 0, 'offset': 0, 'data_type': 'uint16', 'common_name': 'nir09', 'bits_per_sample': 15, 'spatial_resolution': 60}, {'name': 'B11', 'unit': 'm', 'scale': 0.0001, 'nodata': 0, 'offset': 0, 'data_type': 'uint16', 'common_name': 'swir16', 'bits_per_sample': 15, 'spatial_resolution': 20}, {'name': 'B12', 'unit': 'm', 'scale': 0.0001, 'nodata': 0, 'offset': 0, 'data_type': 'uint16', 'common_name': 'swir22', 'bits_per_sample': 15, 'spatial_resolution': 20}, {'name': 'NDVI', 'nodata': 0, 'data_type': 'float32', 'common_name': 'ndvi', 'processing:expression': {'format': 'rio-calc', 'expression': '(B08 - B04) / (B08 + B04)'}}, {'name': 'NDWI1', 'nodata': 0, 'data_type': 'float32', 'common_name': 'ndwi1', 'processing:expression': {'format': 'rio-calc', 'expression': '(B03 - B08) / (B03 + B08)'}}, {'name': 'NDWI2', 'nodata': 0, 'data_type': 'float32', 'common_name': 'ndwi2', 'processing:expression': {'format': 'rio-calc', 'expression': '(B08 - B11) / (B08 + B11)'}}], 'ml-model:type': 'ml-model', 'mlm:framework': 'scikit-learn', 'start_datetime': '2023-06-13T00:00:00Z', 'mlm:accelerator': 'amd64', 'mlm:architecture': 'RandomForestClassifier', 'mlm:hyperparameters': {'n_jobs': -1, 'verbose': 0, 'bootstrap': True, 'ccp_alpha': 0, 'criterion': 'gini', 'oob_score': False, 'warm_start': True, 'max_features': 'sqrt', 'n_estimators': 200, 'random_state': 19, 'min_samples_leaf': 1, 'min_samples_split': 2, 'min_impurity_decrease': 0, 'min_weight_fraction_leaf': 0}, 'ml-model:training-os': 'linux', 'ml-model:architecture': 'RandomForestClassifier', 'mlm:framework_version': '1.4.2', 'ml-model:prediction_type': 'segmentation', 'ml-model:learning_approach': 'supervised', 'mlm:accelerator_constrained': True, 'ml-model:training-processor-type': 'cpu', 'overlap_percentage': None}\n",
      "item_landcover_eurosat_sentinel2 {'datetime': None, 'mlm:name': 'Resnet-18 Sentinel-2 ALL MOCO', 'file:size': 91000000, 'mlm:input': [{'name': '13 Band Sentinel-2 Batch', 'bands': ['B01', 'B02', 'B03', 'B04', 'B05', 'B06', 'B07', 'B08', 'B8A', 'B09', 'B10', 'B11', 'B12'], 'input': {'shape': [-1, 13, 64, 64], 'data_type': 'float32', 'dim_order': ['batch', 'channel', 'height', 'width']}, 'norm_type': 'z-score', 'statistics': [{'mean': 1354.40546513, 'stddev': 245.71762908}, {'mean': 1118.24399958, 'stddev': 333.00778264}, {'mean': 1042.92983953, 'stddev': 395.09249139}, {'mean': 947.62620298, 'stddev': 593.75055589}, {'mean': 1199.47283961, 'stddev': 566.4170017}, {'mean': 1999.79090914, 'stddev': 861.18399006}, {'mean': 2369.22292565, 'stddev': 1086.63139075}, {'mean': 2296.82608323, 'stddev': 1117.98170791}, {'mean': 732.08340178, 'stddev': 404.91978886}, {'mean': 12.11327804, 'stddev': 4.77584468}, {'mean': 1819.01027855, 'stddev': 1002.58768311}, {'mean': 1118.92391149, 'stddev': 761.30323499}, {'mean': 2594.14080798, 'stddev': 1231.58581042}], 'norm_by_channel': True, 'pre_processing_function': {'format': 'python', 'expression': 'torchgeo.datamodules.eurosat.EuroSATDataModule.collate_fn'}}], 'mlm:tasks': ['scene-classification'], 'mlm:output': [{'name': 'scene-classification', 'tasks': ['scene-classification'], 'result': {'shape': [-1, 10], 'data_type': 'float32', 'dim_order': ['batch', 'class']}, 'classification:classes': [{'name': 'Annual Crop', 'value': 0, 'description': 'Annual Crop'}, {'name': 'Forest', 'value': 1, 'description': 'Forest'}, {'name': 'Herbaceous Vegetation', 'value': 2, 'description': 'Herbaceous Vegetation'}, {'name': 'Highway', 'value': 3, 'description': 'Highway'}, {'name': 'Industrial Buildings', 'value': 4, 'description': 'Industrial Buildings'}, {'name': 'Pasture', 'value': 5, 'description': 'Pasture'}, {'name': 'Permanent Crop', 'value': 6, 'description': 'Permanent Crop'}, {'name': 'Residential Buildings', 'value': 7, 'description': 'Residential Buildings'}, {'name': 'River', 'value': 8, 'description': 'River'}, {'name': 'SeaLake', 'value': 9, 'description': 'SeaLake'}], 'post_processing_function': None}], 'description': \"Sourced from torchgeo python library, identifier is ResNet18_Weights.SENTINEL2_ALL_MOCO. The batch size suggestion is 3300, which almost maxes out an NVIDIA 3090's 24 GB CUDA memory.\", 'end_datetime': '2023-12-01T00:00:00Z', 'mlm:framework': 'pytorch', 'mlm:pretrained': True, 'start_datetime': '2021-01-01T00:00:00Z', 'mlm:accelerator': 'cuda', 'mlm:memory_size': 94452432, 'mlm:architecture': 'ResNet-18', 'mlm:total_parameters': 11700000, 'mlm:framework_version': '2.3.0+cu121', 'mlm:pretrained_source': 'EuroSat Sentinel-2', 'mlm:accelerator_summary': 'Unknown', 'mlm:batch_size_suggestion': 3300, 'mlm:accelerator_constrained': False, 'overlap_percentage': None}\n"
     ]
    }
   ],
   "source": [
    "for item in items:\n",
    "    print(item.id, item.properties)"
   ]
  }
 ],
 "metadata": {
  "kernelspec": {
   "display_name": ".venv",
   "language": "python",
   "name": "python3"
  },
  "language_info": {
   "codemirror_mode": {
    "name": "ipython",
    "version": 3
   },
   "file_extension": ".py",
   "mimetype": "text/x-python",
   "name": "python",
   "nbconvert_exporter": "python",
   "pygments_lexer": "ipython3",
   "version": "3.13.1"
  }
 },
 "nbformat": 4,
 "nbformat_minor": 2
}
